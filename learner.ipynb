{
 "metadata": {
  "language_info": {
   "codemirror_mode": {
    "name": "ipython",
    "version": 3
   },
   "file_extension": ".py",
   "mimetype": "text/x-python",
   "name": "python",
   "nbconvert_exporter": "python",
   "pygments_lexer": "ipython3",
   "version": "3.9.3-final"
  },
  "orig_nbformat": 2,
  "kernelspec": {
   "name": "python393jvsc74a57bd09c83fe3f3d84d37affa8553c4e6ac5ff5b34968c94288a6be022af2c75796fbf",
   "display_name": "Python 3.9.3 64-bit ('.venv')"
  },
  "metadata": {
   "interpreter": {
    "hash": "851b10fc20594282f167de7439d0ee5034079be58c603c9ba4058eb230b63969"
   }
  }
 },
 "nbformat": 4,
 "nbformat_minor": 2,
 "cells": [
  {
   "cell_type": "code",
   "execution_count": 1,
   "metadata": {},
   "outputs": [],
   "source": [
    "import numpy as np\n",
    "from goldboxworld.simplified_goldbox_world import SimplifiedGoldboxWorld"
   ]
  },
  {
   "cell_type": "code",
   "execution_count": 2,
   "metadata": {},
   "outputs": [],
   "source": [
    "env = SimplifiedGoldboxWorld()"
   ]
  },
  {
   "cell_type": "code",
   "execution_count": 3,
   "metadata": {},
   "outputs": [],
   "source": [
    "action_space_size = env.action_space.n\n",
    "state_space_size = env.observation_space.n\n",
    "\n",
    "q_table = np.zeros((state_space_size, action_space_size))"
   ]
  },
  {
   "cell_type": "code",
   "execution_count": 4,
   "metadata": {},
   "outputs": [],
   "source": [
    "num_episodes = 10000\n",
    "max_steps_per_episode = 100\n",
    "\n",
    "learning_rate = 0.1\n",
    "discount_rate = 0.99\n",
    "\n",
    "exploration_rate = 1.0\n",
    "max_exploration_rate = 1.0\n",
    "min_exploration_rate = 0.1\n",
    "exploration_decay_rate = 0.001"
   ]
  },
  {
   "cell_type": "code",
   "execution_count": 5,
   "metadata": {
    "tags": []
   },
   "outputs": [],
   "source": [
    "rewards_all_episodes = []\n",
    "\n",
    "for episode in range(num_episodes):\n",
    "    state = env.reset()\n",
    "\n",
    "    rewards_current_episode = 0\n",
    "\n",
    "    for step in range(max_steps_per_episode):\n",
    "        exploration_rate_threshold = np.random.uniform(0, 1)\n",
    "        if exploration_rate_threshold > exploration_rate:\n",
    "            action = np.argmax(q_table[state, :])\n",
    "        else:\n",
    "            action = env.action_space.sample()\n",
    "\n",
    "        new_state, reward, done = env.step(action)\n",
    "\n",
    "        q_table[state, action] = q_table[state, action] * (1 - learning_rate) + learning_rate * (reward + discount_rate * np.max(q_table[new_state, :]))\n",
    "\n",
    "        state = new_state\n",
    "        rewards_current_episode += reward\n",
    "\n",
    "        if done:\n",
    "            break\n",
    "\n",
    "    exploration_rate = min_exploration_rate + (max_exploration_rate - min_exploration_rate) * np.exp(-exploration_decay_rate * episode)\n",
    "\n",
    "    rewards_all_episodes.append(rewards_current_episode)"
   ]
  },
  {
   "cell_type": "code",
   "execution_count": 6,
   "metadata": {
    "tags": []
   },
   "outputs": [
    {
     "output_type": "stream",
     "name": "stdout",
     "text": [
      "~~~~~~~Average Rewards Per Thousand Episodes~~~~~~\n1000 : 3735.753\n2000 : 7488.276\n3000 : 8570.083\n4000 : 8903.582\n5000 : 9166.223000000002\n6000 : 9055.228\n7000 : 9156.199\n8000 : 9236.938\n9000 : 9136.021\n10000: 9105.705000000002\n\n~~~~~~~~~~~~~~~~~~~~~~Q-Table~~~~~~~~~~~~~~~~~~~~~~\n[[ 9504.99950399  9408.94950895  9408.94950895  9504.99950399]\n [ 9602.019701    9504.94273867  9408.91707476  9601.66758219]\n [ 9700.01972001  9571.69943987  9447.83655256  9360.89930476]\n [ 8759.73685445  7888.17124822  9582.12684563  7561.57525872]\n [ 9602.019701    9408.94950895  9504.99950399  9602.019701  ]\n [ 9700.0199      9504.99950399  9504.99950399  9700.0199    ]\n [ 9799.01        9601.92575184  9601.78190077  9597.03107319]\n [  -99.62428979  8724.79540652  9698.97872846  8105.46505314]\n [ 9504.99950395  9504.99950399  9602.019701    9700.0199    ]\n [ -100.          9602.019701    9602.019701    9799.01      ]\n [ 9899.          9700.0199      9700.0199      -100.        ]\n [    0.             0.             0.             0.        ]\n [ 8165.34838774  9602.019701    8205.17705103   -99.42735831]\n [    0.             0.             0.             0.        ]\n [ 9899.          9799.01        -100.         10000.        ]\n [    0.             0.             0.             0.        ]]\n"
     ]
    }
   ],
   "source": [
    "rewards_per_thousand_episodes = np.split(np.array(rewards_all_episodes), num_episodes/1000)\n",
    "count = 1000\n",
    "print(\"~~~~~~~Average Rewards Per Thousand Episodes~~~~~~\")\n",
    "for r in rewards_per_thousand_episodes:\n",
    "    print(f\"{count: <5}: {np.sum(r/1000)}\")\n",
    "    count += 1000\n",
    "\n",
    "print()\n",
    "print(\"~~~~~~~~~~~~~~~~~~~~~~Q-Table~~~~~~~~~~~~~~~~~~~~~~\")\n",
    "print(q_table)"
   ]
  },
  {
   "cell_type": "code",
   "execution_count": 7,
   "metadata": {
    "tags": []
   },
   "outputs": [
    {
     "output_type": "stream",
     "name": "stdout",
     "text": [
      "(0, 0, 1)\n(0, 0, 2)\n(3, 1, 2)\n(3, 2, 2)\n(0, 2, 3)\n(3, 3, 3)\nReward: 9995\n"
     ]
    }
   ],
   "source": [
    "simages = []\n",
    "\n",
    "agentX = 0\n",
    "agentY = 0\n",
    "\n",
    "state = env.reset()\n",
    "\n",
    "rewards_current_episode = 0\n",
    "\n",
    "for step in range(max_steps_per_episode):\n",
    "    action = np.argmax(q_table[state, :])\n",
    "\n",
    "    if action == 0:\n",
    "        agentY = min(3, agentY + 1)\n",
    "    elif action == 1:\n",
    "        agentY = max(0, agentY - 1)\n",
    "    elif action == 2:\n",
    "        agentX = max(0, agentX - 1)\n",
    "    else:\n",
    "        agentX = min(3, agentX + 1)\n",
    "\n",
    "    print((action,agentX, agentY));\n",
    "\n",
    "    new_state, reward, done = env.step(action)\n",
    "\n",
    "    state = new_state\n",
    "    rewards_current_episode += reward\n",
    "\n",
    "    if done:\n",
    "        break\n",
    "\n",
    "print(f\"Reward: {rewards_current_episode}\")\n"
   ]
  },
  {
   "cell_type": "code",
   "execution_count": null,
   "metadata": {},
   "outputs": [],
   "source": []
  }
 ]
}