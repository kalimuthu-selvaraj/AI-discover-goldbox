{
 "metadata": {
  "language_info": {
   "codemirror_mode": {
    "name": "ipython",
    "version": 3
   },
   "file_extension": ".py",
   "mimetype": "text/x-python",
   "name": "python",
   "nbconvert_exporter": "python",
   "pygments_lexer": "ipython3",
   "version": "3.9.3-final"
  },
  "orig_nbformat": 2,
  "kernelspec": {
   "name": "python393jvsc74a57bd098eca7e424dedc13c69b54a13c57e2f098a4abe4e4e5e65665ab4bbc9fb22312",
   "display_name": "Python 3.9.3 64-bit ('.venv')"
  },
  "metadata": {
   "interpreter": {
    "hash": "851b10fc20594282f167de7439d0ee5034079be58c603c9ba4058eb230b63969"
   }
  }
 },
 "nbformat": 4,
 "nbformat_minor": 2,
 "cells": [
  {
   "cell_type": "code",
   "execution_count": 40,
   "metadata": {},
   "outputs": [],
   "source": [
    "import numpy as np\n",
    "from goldbox_detector_environment.goldbox_detector import GoldboxDetector"
   ]
  },
  {
   "cell_type": "code",
   "execution_count": 41,
   "metadata": {},
   "outputs": [],
   "source": [
    "env = GoldboxDetector()"
   ]
  },
  {
   "cell_type": "code",
   "execution_count": 42,
   "metadata": {},
   "outputs": [],
   "source": [
    "action_space_size = env.action_space.n\n",
    "state_space_size = env.observation_space.n\n",
    "\n",
    "q_table = np.zeros((state_space_size, action_space_size))"
   ]
  },
  {
   "cell_type": "code",
   "execution_count": 43,
   "metadata": {},
   "outputs": [],
   "source": [
    "num_episodes = 1000\n",
    "max_steps_per_episode = 25\n",
    "\n",
    "learning_rate = 0.1\n",
    "discount_rate = 0.99\n",
    "\n",
    "exploration_rate = 1.0\n",
    "max_exploration_rate = 1.0\n",
    "min_exploration_rate = 0.1\n",
    "exploration_decay_rate = 0.001"
   ]
  },
  {
   "cell_type": "code",
   "execution_count": 44,
   "metadata": {
    "tags": []
   },
   "outputs": [
    {
     "output_type": "stream",
     "name": "stdout",
     "text": [
      "Goal Reached!!!, total battery points is:  19077\n",
      "Goal Reached!!!, total battery points is:  18877\n",
      "Goal Reached!!!, total battery points is:  18976\n",
      "Goal Reached!!!, total battery points is:  18986\n",
      "Goal Reached!!!, total battery points is:  19776\n",
      "Goal Reached!!!, total battery points is:  19878\n",
      "Goal Reached!!!, total battery points is:  19878\n",
      "Goal Reached!!!, total battery points is:  19877\n",
      "Goal Reached!!!, total battery points is:  19981\n",
      "Goal Reached!!!, total battery points is:  19581\n",
      "Goal Reached!!!, total battery points is:  19476\n",
      "Goal Reached!!!, total battery points is:  19879\n",
      "Goal Reached!!!, total battery points is:  19485\n",
      "Goal Reached!!!, total battery points is:  19776\n",
      "Goal Reached!!!, total battery points is:  19476\n",
      "Goal Reached!!!, total battery points is:  19880\n",
      "Goal Reached!!!, total battery points is:  19776\n",
      "Goal Reached!!!, total battery points is:  19776\n",
      "Goal Reached!!!, total battery points is:  19878\n",
      "Goal Reached!!!, total battery points is:  19878\n",
      "Goal Reached!!!, total battery points is:  19783\n",
      "Goal Reached!!!, total battery points is:  19878\n",
      "Goal Reached!!!, total battery points is:  19576\n",
      "Goal Reached!!!, total battery points is:  19775\n",
      "Goal Reached!!!, total battery points is:  19175\n",
      "Goal Reached!!!, total battery points is:  19777\n",
      "Goal Reached!!!, total battery points is:  19377\n",
      "Goal Reached!!!, total battery points is:  19877\n",
      "Goal Reached!!!, total battery points is:  19379\n",
      "Goal Reached!!!, total battery points is:  19882\n",
      "Goal Reached!!!, total battery points is:  19875\n",
      "Goal Reached!!!, total battery points is:  19578\n",
      "Goal Reached!!!, total battery points is:  19278\n",
      "Goal Reached!!!, total battery points is:  19976\n",
      "Goal Reached!!!, total battery points is:  19875\n",
      "Goal Reached!!!, total battery points is:  19876\n",
      "Goal Reached!!!, total battery points is:  19577\n",
      "Goal Reached!!!, total battery points is:  19883\n",
      "Goal Reached!!!, total battery points is:  19677\n",
      "Goal Reached!!!, total battery points is:  19980\n",
      "Goal Reached!!!, total battery points is:  19278\n",
      "Goal Reached!!!, total battery points is:  19878\n",
      "Goal Reached!!!, total battery points is:  19978\n",
      "Goal Reached!!!, total battery points is:  19875\n",
      "Goal Reached!!!, total battery points is:  19978\n",
      "Goal Reached!!!, total battery points is:  19875\n",
      "Goal Reached!!!, total battery points is:  19981\n",
      "Goal Reached!!!, total battery points is:  19980\n",
      "Goal Reached!!!, total battery points is:  19983\n",
      "Goal Reached!!!, total battery points is:  19478\n",
      "Goal Reached!!!, total battery points is:  19879\n",
      "Goal Reached!!!, total battery points is:  19976\n",
      "Goal Reached!!!, total battery points is:  19781\n",
      "Goal Reached!!!, total battery points is:  19582\n",
      "Goal Reached!!!, total battery points is:  19983\n",
      "Goal Reached!!!, total battery points is:  19878\n",
      "Goal Reached!!!, total battery points is:  19579\n",
      "Goal Reached!!!, total battery points is:  19979\n",
      "Goal Reached!!!, total battery points is:  19980\n",
      "Goal Reached!!!, total battery points is:  19685\n",
      "Goal Reached!!!, total battery points is:  19777\n",
      "Goal Reached!!!, total battery points is:  19881\n",
      "Goal Reached!!!, total battery points is:  19783\n",
      "Goal Reached!!!, total battery points is:  19978\n",
      "Goal Reached!!!, total battery points is:  19676\n",
      "Goal Reached!!!, total battery points is:  19676\n",
      "Goal Reached!!!, total battery points is:  19576\n",
      "Goal Reached!!!, total battery points is:  19985\n",
      "Goal Reached!!!, total battery points is:  19681\n",
      "Goal Reached!!!, total battery points is:  19680\n",
      "Goal Reached!!!, total battery points is:  19878\n",
      "Goal Reached!!!, total battery points is:  19780\n",
      "Goal Reached!!!, total battery points is:  19379\n",
      "Goal Reached!!!, total battery points is:  19876\n",
      "Goal Reached!!!, total battery points is:  19880\n",
      "Goal Reached!!!, total battery points is:  19777\n",
      "Goal Reached!!!, total battery points is:  19879\n",
      "Goal Reached!!!, total battery points is:  19477\n",
      "Goal Reached!!!, total battery points is:  19377\n",
      "Goal Reached!!!, total battery points is:  19875\n",
      "Goal Reached!!!, total battery points is:  19576\n"
     ]
    }
   ],
   "source": [
    "rewards_all_episodes = []\n",
    "\n",
    "for episode in range(num_episodes):\n",
    "    state = env.reset()\n",
    "\n",
    "    rewards_current_episode = 0\n",
    "\n",
    "    for step in range(max_steps_per_episode):\n",
    "        exploration_rate_threshold = np.random.uniform(0, 1)\n",
    "        if exploration_rate_threshold > exploration_rate:\n",
    "            action = np.argmax(q_table[state, :])\n",
    "        else:\n",
    "            action = env.action_space.sample()\n",
    "\n",
    "        new_state, reward, done = env.step(action)\n",
    "\n",
    "        q_table[state, action] = q_table[state, action] * (1 - learning_rate) + learning_rate * (reward + discount_rate * np.max(q_table[new_state, :]))\n",
    "\n",
    "        state = new_state\n",
    "        rewards_current_episode += reward\n",
    "\n",
    "        if done:\n",
    "            break\n",
    "\n",
    "    exploration_rate = min_exploration_rate + (max_exploration_rate - min_exploration_rate) * np.exp(-exploration_decay_rate * episode)\n",
    "\n",
    "    rewards_all_episodes.append(rewards_current_episode)"
   ]
  },
  {
   "cell_type": "code",
   "execution_count": 45,
   "metadata": {
    "tags": []
   },
   "outputs": [
    {
     "output_type": "stream",
     "name": "stdout",
     "text": [
      "~~~~~~~Average Rewards Per Thousand Episodes~~~~~~\n1000 : 313.4789999999999\n\n~~~~~~~~~~~~~~~~~~~~~~Q-Table~~~~~~~~~~~~~~~~~~~~~~\n[[-3.72848775e+00 -3.56399570e+00 -3.54243566e+00 -3.70843396e+00]\n [-4.05433364e+00 -4.06789299e+00 -4.03908545e+00 -4.20039104e+00]\n [-4.62607182e+00 -4.57740199e+00 -4.52933063e+00 -4.88450072e+00]\n [-5.51172637e+00 -5.51485777e+00 -5.18351994e+00 -5.37750356e+00]\n [-5.98895855e+00 -5.90405178e+00 -5.88964348e+00 -6.39940541e+00]\n [ 3.49166631e+01 -6.61426813e+00 -6.58550085e+00 -7.23535920e+00]\n [ 9.57588380e+02  2.94866117e+02 -7.13352308e+00  4.08701555e+03]\n [ 6.62197272e+03  4.10426819e+03  2.24869259e+03  3.65247602e+03]\n [ 2.20763750e+03  2.67469280e+03  6.25122319e+03  2.47607184e+03]\n [ 1.20955173e+03  2.91133275e+03  5.72036365e+03  3.36180921e+03]\n [-3.35700763e+00 -3.76243661e+00 -3.63756586e+00 -3.70792907e+00]\n [-9.41733470e+01 -4.00710902e+00 -4.00831213e+00 -4.21209624e+00]\n [-1.00490035e+02 -4.70332846e+00 -4.68952612e+00 -4.70027861e+00]\n [-1.03668737e+02 -5.31857615e+00 -5.28972910e+00 -5.40345900e+00]\n [-1.04320554e+02 -5.82868988e+00 -5.85231739e+00 -6.31426418e+00]\n [-9.21611369e+01 -6.50247286e+00 -6.35749958e+00  1.36917685e+03]\n [ 4.42595521e+03  6.47741952e+02  1.16142485e+02  1.45115611e+03]\n [ 7.07848794e+03  3.63186440e+03  2.02725115e+03  3.08375499e+03]\n [ 1.23736265e+03  1.91809053e+03  4.45879627e+03  9.86825295e+02]\n [-2.04724114e+02  3.42469825e+03  1.10264066e+03  2.62785335e+02]\n [-2.59646020e+00 -3.34826704e+00 -2.91452156e+00 -8.72369523e+01]\n [-4.14825535e+01 -2.52122892e+00 -2.37709725e+00 -7.05966416e+01]\n [-6.40064703e+01 -3.55047683e+00 -6.97060758e+01 -7.70554875e+01]\n [-7.41822373e+01 -4.56018977e+00 -6.62540943e+01 -9.15802977e+01]\n [-1.12273350e+02 -5.55711564e+00 -7.93540874e+01 -9.87313954e+01]\n [ 2.38335182e+02  6.75813964e+01 -1.01297262e+02  2.04980584e+03]\n [ 6.77299770e+03  2.14421729e+02  4.79246425e+02  2.30261142e+03]\n [ 7.81358298e+03  2.36917079e+03  3.53720034e+03  2.21259940e+03]\n [ 5.81895745e+01 -3.39406513e+01  4.92139619e+03 -1.12914428e+02]\n [-9.05494037e+01 -3.39068477e+01  6.18918831e+02 -2.02575836e+02]\n [-1.86657156e+00 -2.12872171e+00 -1.96418318e+00 -6.23510899e+01]\n [-1.91900000e+01 -3.49567848e+01 -1.38860278e+00 -2.01899000e+01]\n [-3.47527100e+01 -4.18861331e+01 -4.73432690e+01 -2.28005211e+01]\n [-4.74973609e+01 -4.83625588e+01 -5.21014586e+01 -6.04262183e+01]\n [-7.28886459e+01 -7.09008347e+01 -7.78976303e+01 -7.09970875e+01]\n [-8.75414772e+01  2.05906860e+01 -1.31678504e+02  4.55910504e+03]\n [ 8.30139734e+03  2.63268045e+03  1.46312842e+03  3.30649387e+03]\n [ 8.32466622e+03  4.52016714e+03  5.77855519e+03  2.73521853e+03]\n [ 1.58582705e+03 -1.54146369e+01  4.50705325e+03 -6.64191009e+01]\n [ 3.00515245e+02 -1.89871881e+02  1.84477863e+02 -1.03854280e+02]\n [-1.20985452e+00 -1.22157548e+00 -1.25836855e+00 -4.14351709e+01]\n [-3.80521090e-01 -1.01582245e+01 -4.99476739e-01 -1.01188100e+01]\n [-3.52230927e-01 -2.01899000e+01 -1.01000000e+01 -2.75253502e+01]\n [-1.18600960e+00 -5.67938524e+01 -2.73710000e+01 -2.75601026e+01]\n [-2.11105426e+00 -6.73424259e+01 -6.96172626e+01 -7.34001365e+01]\n [ 4.89843083e+02  4.23905499e+02 -8.95496561e+01  5.19531421e+03]\n [ 8.88256420e+03  5.12893104e+03  2.14651762e+03  4.85148996e+03]\n [ 8.72668542e+03  4.82935365e+03  6.41501010e+03  2.48602369e+03]\n [ 1.38163872e+03 -7.21174356e+01  5.54596124e+03  2.03311547e+02]\n [ 3.34823130e+01 -7.17582311e+01  1.51393868e+03  2.56762507e+02]\n [-8.68925756e-01 -9.36042443e-01 -7.97205593e-01 -8.50843888e-01]\n [-7.53874035e-01 -2.73710000e+01 -8.28350122e-01 -8.20252427e-01]\n [-4.14276911e+01 -1.91900000e+01 -1.12372423e+00 -1.16239709e+00]\n [-6.21332871e+01 -4.75807296e+01 -1.60673850e+00 -1.69598947e+00]\n [ 4.21002173e+02 -8.31187094e+01 -2.16959947e+00 -2.54995786e+00]\n [ 2.63893303e+02  7.77519834e+02  3.07135568e+01  6.50939074e+03]\n [ 9.15251695e+03  7.78720415e+03  4.25610194e+03  7.43755689e+03]\n [ 5.02289394e+03  4.36305336e+03  8.98362725e+03  2.88279275e+03]\n [ 1.49054818e+02 -4.68462900e+00  6.36020320e+03  8.37232142e+01]\n [-9.63292399e+01  3.17319475e+00  3.63423374e+02 -4.95417142e+00]\n [-1.01000000e+01 -7.07775724e-01 -6.97903497e-01 -6.66196908e-01]\n [-1.91900000e+01 -7.31117763e-01 -7.00251698e-01 -2.73997001e+01]\n [-1.91900000e+01 -5.37206647e-01 -4.58513767e-01 -1.01000000e+01]\n [-3.75336200e+01 -1.08320397e+00 -4.13704100e+01 -1.65203707e+01]\n [-4.74247730e+01 -1.41153466e+00 -5.29670714e+01  2.58832075e+03]\n [ 1.48330698e+03  2.90976807e+02  3.39465723e+02  7.62881280e+03]\n [ 9.29844623e+03  7.20531151e+03  4.64897856e+03  6.30373814e+03]\n [ 2.50030513e+03  2.74864736e+03  8.33558885e+03  1.15957437e+03]\n [-1.04299909e+02  8.94057766e+01  4.22690239e+03 -7.99719590e+01]\n [-3.83012325e+01  3.35272895e+01  3.04333001e+02 -6.67327882e+01]\n [-1.01000000e+01 -1.00000000e-01  0.00000000e+00  0.00000000e+00]\n [-1.01000000e+01  0.00000000e+00 -1.01000000e+01  0.00000000e+00]\n [-1.01000000e+01  0.00000000e+00 -1.01000000e+01 -2.10898100e+01]\n [-1.91900000e+01 -3.48643121e+01 -1.91900000e+01 -1.92764196e+01]\n [-1.34756368e+00 -4.73740660e+01 -2.92708100e+01  1.13122602e+03]\n [ 6.67042832e+02  1.55663957e+03  8.38638253e+01  7.94158133e+03]\n [ 9.43897877e+03  7.50953596e+03  6.35621012e+03  6.27297776e+03]\n [ 2.20718625e+03  1.52114887e+03  8.07766649e+03 -5.92517598e+01]\n [-2.18588005e+01 -7.38094724e+01 -5.29248535e+01  1.05496651e+02]\n [ 1.46865028e+03 -4.76651402e+01 -6.08389050e+01 -6.28053017e+01]\n [-1.01000000e+01  0.00000000e+00  0.00000000e+00  0.00000000e+00]\n [ 0.00000000e+00  0.00000000e+00 -1.01000000e+01  0.00000000e+00]\n [-1.01000000e+01 -1.01000000e+01 -1.01000000e+01  0.00000000e+00]\n [-2.26536483e-01 -1.10999000e+01 -1.91900000e+01 -9.97074043e+00]\n [ 3.14283469e+00 -1.92888343e+01 -2.73809000e+01  6.54865307e+02]\n [ 5.38593005e+03  8.60948419e+02  2.96438852e+01  1.79534475e+03]\n [ 9.57787615e+03  7.00677302e+03  3.05916691e+03  4.77109499e+03]\n [ 8.16468143e+03  3.95173206e+02  4.01746049e+03  8.72372379e+02]\n [ 4.05122884e+03 -4.97864863e+01  1.23103433e+03  5.47276430e+02]\n [ 5.21650930e+03  7.05319446e+01 -1.01000000e+01  2.33529271e+02]\n [-1.01000000e+01  0.00000000e+00 -1.01000000e+01  0.00000000e+00]\n [ 0.00000000e+00  0.00000000e+00  0.00000000e+00  0.00000000e+00]\n [ 0.00000000e+00  0.00000000e+00  0.00000000e+00 -1.00000000e-01]\n [-4.73376928e-01 -1.91900000e+01 -1.01000000e+01 -3.69055386e-01]\n [ 7.23988655e+01 -2.67466674e+01 -5.20193103e-01  1.61746963e+03]\n [ 1.33270760e+03  1.12737291e+02  2.30829372e+02  8.26677879e+03]\n [ 6.16930829e+03  4.36341969e+03  3.86425960e+03  9.74360343e+03]\n [ 7.16695805e+03  4.02572331e+03  5.36094467e+03  9.87923093e+03]\n [ 7.06267007e+03  8.14567563e+02  5.66416076e+03  9.99488943e+03]\n [ 0.00000000e+00  0.00000000e+00  0.00000000e+00  0.00000000e+00]]\n"
     ]
    }
   ],
   "source": [
    "rewards_per_thousand_episodes = np.split(np.array(rewards_all_episodes), num_episodes/1000)\n",
    "count = 1000\n",
    "print(\"~~~~~~~Average Rewards Per Thousand Episodes~~~~~~\")\n",
    "for r in rewards_per_thousand_episodes:\n",
    "    print(f\"{count: <5}: {np.sum(r/1000)}\")\n",
    "    count += 1000\n",
    "\n",
    "print()\n",
    "print(\"~~~~~~~~~~~~~~~~~~~~~~Q-Table~~~~~~~~~~~~~~~~~~~~~~\")\n",
    "print(q_table)"
   ]
  },
  {
   "cell_type": "code",
   "execution_count": null,
   "metadata": {},
   "outputs": [],
   "source": []
  },
  {
   "cell_type": "code",
   "execution_count": 46,
   "metadata": {},
   "outputs": [],
   "source": [
    "from PIL import Image\n",
    "canvas = Image.open(\"images/goldbox_detector_environment.png\")\n",
    "agent = Image.open(\"images/agent.png\")\n",
    "agent.putalpha(255)"
   ]
  },
  {
   "cell_type": "code",
   "execution_count": 47,
   "metadata": {},
   "outputs": [],
   "source": [
    "locations = {(x, y): (100 * (y + 1) + 100 * y, (100 * (x + 1) + 100 * x))\r\n",
    "             for y in range(10) for x in range(10)}"
   ]
  },
  {
   "cell_type": "code",
   "execution_count": 48,
   "metadata": {
    "tags": []
   },
   "outputs": [
    {
     "output_type": "stream",
     "name": "stdout",
     "text": [
      "Coordinate  (8, 0)\n",
      "Coordinate  (7, 0)\n",
      "Coordinate  (7, 1)\n",
      "Coordinate  (7, 2)\n",
      "Coordinate  (7, 3)\n",
      "Coordinate  (7, 4)\n",
      "Coordinate  (7, 5)\n",
      "Coordinate  (6, 5)\n",
      "Coordinate  (6, 6)\n",
      "Coordinate  (6, 7)\n",
      "Coordinate  (6, 8)\n",
      "Coordinate  (6, 9)\n",
      "Coordinate  (7, 9)\n",
      "Coordinate  (8, 9)\n",
      "Coordinate  (9, 9)\n",
      "Goal Reached!!!, total battery points is:  19985\n"
     ]
    }
   ],
   "source": [
    "images = []\n",
    "\n",
    "agentX = 9\n",
    "agentY = 0\n",
    "\n",
    "b = canvas.copy()\n",
    "b.paste(agent, locations[(agentX, agentY)], agent)\n",
    "images.append(b)\n",
    "\n",
    "state = env.reset()\n",
    "\n",
    "rewards_current_episode = 0\n",
    "\n",
    "for step in range(max_steps_per_episode):\n",
    "    action = np.argmax(q_table[state, :])\n",
    "\n",
    "    if action == 0:\n",
    "        agentY = min(9, agentY + 1)\n",
    "    elif action == 1:\n",
    "        agentY = max(0, agentY - 1)\n",
    "    elif action == 2:\n",
    "        agentX = max(0, agentX - 1)\n",
    "    else:\n",
    "        agentX = min(9, agentX + 1)\n",
    "\n",
    "    \n",
    "    b = canvas.copy()\n",
    "    b.paste(agent, locations[(agentX, agentY)], agent)\n",
    "    images.append(b)\n",
    "\n",
    "\n",
    "    #print(\"Qtable\",q_table[state, :])\n",
    "    print(\"Coordinate \",(agentX, agentY))\n",
    "\n",
    "    new_state, reward, done = env.step(action)\n",
    "\n",
    "    state = new_state\n",
    "    rewards_current_episode += reward\n",
    "\n",
    "    if done:\n",
    "        break\n",
    "\n",
    "#print(f\"Reward after : {rewards_current_episode}\")\n",
    "\n",
    "images[0].save('images/detected_goldbox.gif',\n",
    "               save_all=True,\n",
    "               append_images=images[1:],\n",
    "               duration=500,\n",
    "               loop=0)"
   ]
  },
  {
   "source": [
    "<img src=\"images/detected_goldbox.gif\" width=\"50%\" />"
   ],
   "cell_type": "markdown",
   "metadata": {}
  },
  {
   "cell_type": "code",
   "execution_count": null,
   "metadata": {},
   "outputs": [],
   "source": []
  }
 ]
}